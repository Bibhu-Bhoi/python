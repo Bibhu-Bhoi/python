{
 "cells": [
  {
   "cell_type": "code",
   "execution_count": 4,
   "id": "6da7e6d5-c25c-4c0e-b8b4-cfab35ec1a97",
   "metadata": {},
   "outputs": [
    {
     "name": "stdout",
     "output_type": "stream",
     "text": [
      "Enter your name: bibhu\n",
      "Enter your age 21\n",
      "Enter your address jharsuguda\n"
     ]
    },
    {
     "name": "stdout",
     "output_type": "stream",
     "text": [
      "bibhu 21 jharsuguda\n"
     ]
    }
   ],
   "source": [
    "name=input(\"Enter your name:\")\n",
    "age=int(input(\"Enter your age\"))\n",
    "add=input(\"Enter your address\")\n",
    "print(name,age,add)\n"
   ]
  },
  {
   "cell_type": "code",
   "execution_count": 5,
   "id": "940cc1ba-8b5f-4bd4-8547-5362447d782e",
   "metadata": {},
   "outputs": [
    {
     "name": "stdout",
     "output_type": "stream",
     "text": [
      "Enter the radios of the circle 23\n"
     ]
    },
    {
     "name": "stdout",
     "output_type": "stream",
     "text": [
      "The area of the circle is 1661.06\n",
      "The perimeter of the cicle is 144.44\n"
     ]
    }
   ],
   "source": [
    "n=eval(input(\"Enter the radios of the circle\"))\n",
    "area=3.14*n*n\n",
    "perimeter=2*3.14*n\n",
    "print(\"The area of the circle is\",area)\n",
    "print(\"The perimeter of the cicle is\",perimeter)"
   ]
  },
  {
   "cell_type": "code",
   "execution_count": 6,
   "id": "59bd6811-b733-4bf0-8d5b-8106082fa51e",
   "metadata": {},
   "outputs": [
    {
     "name": "stdout",
     "output_type": "stream",
     "text": [
      "Enter the first number 3\n",
      "Enter the second number 4\n"
     ]
    },
    {
     "name": "stdout",
     "output_type": "stream",
     "text": [
      "sum of two number is 7\n",
      "product of two number is 12\n"
     ]
    }
   ],
   "source": [
    "num=eval(input(\"Enter the first number\"))\n",
    "num1=eval(input(\"Enter the second number\"))\n",
    "add=num+num1\n",
    "pro=num*num1\n",
    "print(\"sum of two number is\",add)\n",
    "print(\"product of two number is\",pro)\n"
   ]
  },
  {
   "cell_type": "code",
   "execution_count": 7,
   "id": "6c82ceff-9635-4b9a-b3f5-ad3886b5fa58",
   "metadata": {},
   "outputs": [
    {
     "name": "stdout",
     "output_type": "stream",
     "text": [
      "Enter the first number 3\n",
      "Enter the second number 4\n"
     ]
    },
    {
     "name": "stdout",
     "output_type": "stream",
     "text": [
      "after swapping the number is: 4 3\n"
     ]
    }
   ],
   "source": [
    "num=eval(input(\"Enter the first number\"))\n",
    "num1=eval(input(\"Enter the second number\"))\n",
    "num2=num\n",
    "num=num1\n",
    "num1=num2\n",
    "print(\"after swapping the number is:\",num,num1)"
   ]
  },
  {
   "cell_type": "code",
   "execution_count": 8,
   "id": "9d11b91a-d403-4ffe-8a12-953c49def74e",
   "metadata": {},
   "outputs": [
    {
     "name": "stdout",
     "output_type": "stream",
     "text": [
      "Enter the first value: 2\n",
      "Enter the second value: 3\n",
      "Enter the third value: 4\n"
     ]
    },
    {
     "name": "stdout",
     "output_type": "stream",
     "text": [
      "Area of the traingle is: 2.9047375096555625\n",
      "Perimeter of the traingle is: 9\n"
     ]
    }
   ],
   "source": [
    "import math\n",
    "a=eval(input(\"Enter the first value:\"))\n",
    "b=eval(input(\"Enter the second value:\"))\n",
    "c=eval(input(\"Enter the third value:\"))\n",
    "s=(a+b+c)/2\n",
    "area=math.sqrt(s*(s-a)*(s-b)*(s-c))\n",
    "perimeter=a+b+c\n",
    "print(\"Area of the traingle is:\",area)\n",
    "print(\"Perimeter of the traingle is:\",perimeter)\n"
   ]
  },
  {
   "cell_type": "code",
   "execution_count": null,
   "id": "940f3291",
   "metadata": {},
   "outputs": [],
   "source": []
  },
  {
   "cell_type": "code",
   "execution_count": 9,
   "id": "a1c1e178-0c5c-4228-bebe-0cbf145a7e06",
   "metadata": {},
   "outputs": [
    {
     "name": "stdout",
     "output_type": "stream",
     "text": [
      "Enter the radios of the sphere: 3\n"
     ]
    },
    {
     "name": "stdout",
     "output_type": "stream",
     "text": [
      "the volume of the sphere is: 113.03999999999998\n"
     ]
    }
   ],
   "source": [
    "num=eval(input(\"Enter the radios of the sphere:\"))\n",
    "volume=(4/3)*3.14*num*num*num\n",
    "print(\"the volume of the sphere is:\",volume)"
   ]
  },
  {
   "cell_type": "code",
   "execution_count": 3,
   "id": "09b34dc4-76c3-4c44-8955-6373fe45dc6a",
   "metadata": {},
   "outputs": [
    {
     "name": "stdout",
     "output_type": "stream",
     "text": [
      "Revers of the entered string is: uhbib\n"
     ]
    }
   ],
   "source": [
    "str=input(\"Enter the string:\")\n",
    "rev=str[::-1]\n",
    "print(\"Revers of the entered string is:\",rev)"
   ]
  },
  {
   "cell_type": "code",
   "execution_count": 8,
   "id": "aa310f71-4c20-41a9-a888-e9ab3760b2b0",
   "metadata": {},
   "outputs": [
    {
     "name": "stdout",
     "output_type": "stream",
     "text": [
      "content in the file 1 is:\n",
      "giet school\n",
      "\n",
      "content in file2 is:\n",
      "giet school\n",
      "\n"
     ]
    }
   ],
   "source": [
    "#write a program to copy thecontent of file1.txt into file2.txt//\n",
    "fp1=open(\"file1.txt\",\"r\");\n",
    "fp2=open(\"file2.txt\",\"w+\");\n",
    "x=fp1.read()\n",
    "fp2.write(x)\n",
    "fp1.seek(0)\n",
    "print(\"content in the file 1 is:\")\n",
    "c1=fp1.read()\n",
    "print(c1)\n",
    "print(\"content in file2 is:\")\n",
    "fp2.seek(0)\n",
    "c2=fp2.read()\n",
    "print(c2)\n",
    "fp1.close()\n",
    "fp2.close()"
   ]
  },
  {
   "cell_type": "code",
   "execution_count": 1,
   "id": "cc3d37b6",
   "metadata": {},
   "outputs": [],
   "source": [
    "#write a program to generate a shape given below.\n",
    "#    A\n",
    "#   ABA\n",
    "#  ABCBA\n",
    "# ABCDCBA"
   ]
  },
  {
   "cell_type": "code",
   "execution_count": 1,
   "id": "6fa47a58",
   "metadata": {},
   "outputs": [
    {
     "name": "stdout",
     "output_type": "stream",
     "text": [
      "Mean: 32.5\n",
      "Median: 32.5\n",
      "Mode: 10\n",
      "Standard Deviation: 14.361406616345072\n",
      "Variance: 206.25\n"
     ]
    }
   ],
   "source": [
    "import numpy as np\n",
    "import statistics as stats\n",
    "\n",
    "# Example data\n",
    "data = [10, 15, 20, 25, 30, 35, 40, 45, 50, 55]\n",
    "\n",
    "# Mean\n",
    "mean = np.mean(data)\n",
    "print(f\"Mean: {mean}\")\n",
    "\n",
    "# Median\n",
    "median = np.median(data)\n",
    "print(f\"Median: {median}\")\n",
    "\n",
    "# Mode\n",
    "mode = stats.mode(data)\n",
    "print(f\"Mode: {mode}\")\n",
    "\n",
    "# Standard Deviation\n",
    "std_dev = np.std(data)\n",
    "print(f\"Standard Deviation: {std_dev}\")\n",
    "\n",
    "# Variance\n",
    "variance = np.var(data)\n",
    "print(f\"Variance: {variance}\")"
   ]
  }
 ],
 "metadata": {
  "kernelspec": {
   "display_name": "Python 3",
   "language": "python",
   "name": "python3"
  },
  "language_info": {
   "codemirror_mode": {
    "name": "ipython",
    "version": 3
   },
   "file_extension": ".py",
   "mimetype": "text/x-python",
   "name": "python",
   "nbconvert_exporter": "python",
   "pygments_lexer": "ipython3",
   "version": "3.12.1"
  }
 },
 "nbformat": 4,
 "nbformat_minor": 5
}
